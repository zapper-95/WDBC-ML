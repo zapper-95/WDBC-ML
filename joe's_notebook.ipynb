{
 "cells": [
  {
   "cell_type": "code",
   "execution_count": 17,
   "id": "f236d97f",
   "metadata": {
    "scrolled": true
   },
   "outputs": [
    {
     "data": {
      "text/html": [
       "<div>\n",
       "<style scoped>\n",
       "    .dataframe tbody tr th:only-of-type {\n",
       "        vertical-align: middle;\n",
       "    }\n",
       "\n",
       "    .dataframe tbody tr th {\n",
       "        vertical-align: top;\n",
       "    }\n",
       "\n",
       "    .dataframe thead th {\n",
       "        text-align: right;\n",
       "    }\n",
       "</style>\n",
       "<table border=\"1\" class=\"dataframe\">\n",
       "  <thead>\n",
       "    <tr style=\"text-align: right;\">\n",
       "      <th></th>\n",
       "      <th>diagnosis</th>\n",
       "      <th>radius</th>\n",
       "      <th>texture</th>\n",
       "      <th>perimeter</th>\n",
       "      <th>area</th>\n",
       "      <th>smoothness</th>\n",
       "      <th>compactness</th>\n",
       "      <th>concavity</th>\n",
       "      <th>concave points</th>\n",
       "      <th>symmetry</th>\n",
       "      <th>fractal dimension</th>\n",
       "    </tr>\n",
       "  </thead>\n",
       "  <tbody>\n",
       "    <tr>\n",
       "      <th>0</th>\n",
       "      <td>M</td>\n",
       "      <td>25.38</td>\n",
       "      <td>17.33</td>\n",
       "      <td>184.60</td>\n",
       "      <td>2019.0</td>\n",
       "      <td>0.1622</td>\n",
       "      <td>0.6656</td>\n",
       "      <td>0.7119</td>\n",
       "      <td>0.2654</td>\n",
       "      <td>0.4601</td>\n",
       "      <td>0.11890</td>\n",
       "    </tr>\n",
       "    <tr>\n",
       "      <th>1</th>\n",
       "      <td>M</td>\n",
       "      <td>24.99</td>\n",
       "      <td>23.41</td>\n",
       "      <td>158.80</td>\n",
       "      <td>1956.0</td>\n",
       "      <td>0.1238</td>\n",
       "      <td>0.1866</td>\n",
       "      <td>0.2416</td>\n",
       "      <td>0.1860</td>\n",
       "      <td>0.2750</td>\n",
       "      <td>0.08902</td>\n",
       "    </tr>\n",
       "    <tr>\n",
       "      <th>2</th>\n",
       "      <td>M</td>\n",
       "      <td>23.57</td>\n",
       "      <td>25.53</td>\n",
       "      <td>152.50</td>\n",
       "      <td>1709.0</td>\n",
       "      <td>0.1444</td>\n",
       "      <td>0.4245</td>\n",
       "      <td>0.4504</td>\n",
       "      <td>0.2430</td>\n",
       "      <td>0.3613</td>\n",
       "      <td>0.08758</td>\n",
       "    </tr>\n",
       "    <tr>\n",
       "      <th>3</th>\n",
       "      <td>M</td>\n",
       "      <td>14.91</td>\n",
       "      <td>26.50</td>\n",
       "      <td>98.87</td>\n",
       "      <td>567.7</td>\n",
       "      <td>0.2098</td>\n",
       "      <td>0.8663</td>\n",
       "      <td>0.6869</td>\n",
       "      <td>0.2575</td>\n",
       "      <td>0.6638</td>\n",
       "      <td>0.17300</td>\n",
       "    </tr>\n",
       "    <tr>\n",
       "      <th>4</th>\n",
       "      <td>M</td>\n",
       "      <td>22.54</td>\n",
       "      <td>16.67</td>\n",
       "      <td>152.20</td>\n",
       "      <td>1575.0</td>\n",
       "      <td>0.1374</td>\n",
       "      <td>0.2050</td>\n",
       "      <td>0.4000</td>\n",
       "      <td>0.1625</td>\n",
       "      <td>0.2364</td>\n",
       "      <td>0.07678</td>\n",
       "    </tr>\n",
       "  </tbody>\n",
       "</table>\n",
       "</div>"
      ],
      "text/plain": [
       "  diagnosis  radius  texture  perimeter    area  smoothness  compactness  \\\n",
       "0         M   25.38    17.33     184.60  2019.0      0.1622       0.6656   \n",
       "1         M   24.99    23.41     158.80  1956.0      0.1238       0.1866   \n",
       "2         M   23.57    25.53     152.50  1709.0      0.1444       0.4245   \n",
       "3         M   14.91    26.50      98.87   567.7      0.2098       0.8663   \n",
       "4         M   22.54    16.67     152.20  1575.0      0.1374       0.2050   \n",
       "\n",
       "   concavity  concave points  symmetry  fractal dimension  \n",
       "0     0.7119          0.2654    0.4601            0.11890  \n",
       "1     0.2416          0.1860    0.2750            0.08902  \n",
       "2     0.4504          0.2430    0.3613            0.08758  \n",
       "3     0.6869          0.2575    0.6638            0.17300  \n",
       "4     0.4000          0.1625    0.2364            0.07678  "
      ]
     },
     "execution_count": 17,
     "metadata": {},
     "output_type": "execute_result"
    }
   ],
   "source": [
    "import sklearn\n",
    "import pandas as pd\n",
    "\n",
    "column_names = ['diagnosis', 'radius', 'texture', 'perimeter', 'area', 'smoothness', 'compactness','concavity','concave points','symmetry','fractal dimension']\n",
    "\n",
    "wc = pd.read_csv('data/wdbc.data', names = column_names, usecols = [1]+[*range(22,32)]) #We are only interested in the second column (the diagnosis) and the last 10 columns, which are the real valued features \n",
    "\n",
    "wc.head()"
   ]
  },
  {
   "cell_type": "code",
   "execution_count": 20,
   "id": "cdbeaa56",
   "metadata": {},
   "outputs": [
    {
     "ename": "ValueError",
     "evalue": "Expected 2D array, got 1D array instead:\narray=[25.38  24.99  23.57  14.91  22.54  15.47  22.88  17.06  15.49  15.09\n 19.19  20.42  20.96  16.84  15.03  17.46  19.07  20.96  27.32  15.11\n 14.5   10.23  18.07  29.17  26.46  22.25  17.62  21.31  20.27  20.01\n 23.15  16.82  20.88  24.15  20.21  20.01  15.89  13.3   14.99  15.53\n 15.93  12.84  24.09  17.38  16.23  22.82   8.964 15.67  13.76  15.15\n 12.98  14.67  13.1   20.6   18.1   12.84  26.14  17.87  14.23   9.507\n 11.02   9.565 17.67  10.01  17.09  17.31  10.41  12.33  10.31  13.46\n 24.86   9.733 23.32  16.57  14.11  19.77  14.08  22.39  23.37  14.24\n 13.11  15.53  30.    20.33  13.67  22.93  16.21  24.56  13.83  16.34\n 16.11  16.43  16.36  15.1   18.23  24.22  12.83  10.92  13.06  16.33\n 16.99   7.93  13.34  10.76  11.54  16.31  13.14  13.29  28.4   13.01\n 11.05  13.33  15.3   11.16   9.628 13.67   9.414 18.81  20.19  20.58\n 12.82  22.25  26.02  15.7   14.26  15.49  16.89  22.32  16.11  22.63\n 13.34  19.26  19.47  17.5   22.52  14.49  13.33  12.32  18.55  11.92\n 10.62  19.92  12.78  14.48  11.95  13.15  13.74  16.25  15.85  15.34\n 14.16   9.092 11.02  11.99  14.77  13.59  20.47  18.22  13.14  12.36\n 13.32  22.03  26.73  13.58  28.01  15.98  11.6   20.05  23.14  16.11\n 13.5   17.98  18.79  11.35  11.54   9.262 11.26  17.79  14.    13.63\n 33.12  26.68  20.11  12.37  17.8   11.87  21.31  13.01  12.57  13.35\n 15.74  13.75   9.968 15.65  16.08  13.88  16.39  19.76  23.36  18.33\n 14.44  20.42  25.12  19.2   14.97  17.77  10.42  19.8   14.55  17.38\n 23.24  13.3   28.11  18.07  16.86  15.75  13.25  11.48  25.73  27.9\n 15.34  14.98  11.17  19.56  15.14  16.77  11.52  16.41  14.2   15.2\n 19.59  12.08  12.36  24.47  10.51  15.33  31.01  24.22  15.75  22.51\n 14.85  13.2   12.58  15.01  21.65  11.48  13.94  14.39  12.25  12.65\n 25.58  12.97  25.28  19.85  25.7   16.39  25.05  17.73  19.85  18.49\n 24.33  19.85  20.39  17.91  21.58  32.49  11.88  14.8   13.9   11.69\n 14.91  12.32  28.19  10.75  20.92  12.4   12.2   19.96  15.5   14.98\n 23.72  13.31  23.79  18.55  13.9   13.5   13.24  13.62  11.86  12.36\n 15.77  16.25  13.74  13.06  13.5   14.67  11.37  13.36  16.22  10.93\n 25.93  13.46  23.68  11.06  12.68  12.44  14.41   9.699 14.97  14.73\n 12.61  16.46  14.19  12.34   8.952 13.34  12.85  21.84  10.06  12.9\n 11.28  23.06  14.04  25.3   13.75  13.71  15.53  13.07  19.28  17.73\n 18.76  14.42  11.98  12.76  13.35  20.99  13.72  24.54  11.16  30.67\n 16.67  10.75  11.92  22.75  13.06  10.88  13.64  17.27  12.51  12.81\n 13.28  17.36  33.13  18.51  12.12  13.37  14.19  15.11   9.981 12.02\n 13.72  14.2   13.75  18.13  14.73  24.31  24.19  14.29  30.75  27.66\n 19.38  16.2   22.69  25.37  14.84  16.97  10.85  14.69  14.54  13.24\n 12.84  12.09  12.57  14.18  14.24  15.79  13.13  15.51  12.04  20.82\n 11.38  10.17  21.2   26.23  13.56  14.92  14.8   13.74  12.68  13.45\n 20.8   13.8   14.13  13.86  13.18  12.4   17.71  14.4   21.08  14.1\n 13.05  12.41   9.965 16.76  17.26  13.05  10.85  23.17  13.65  12.36\n 13.07  16.46  12.64  15.14  11.21  11.11  12.13  12.76  11.68  13.82\n 16.35  12.88  22.03  22.66  16.31  17.04  14.45  15.66  15.63  14.91\n 12.36  20.38  15.27  10.94  20.38  12.98  21.53  16.43  16.3   25.68\n 12.79  21.44  13.09  15.8   14.34  15.05  13.12  14.35  14.34  10.67\n 22.96  36.04  15.4   12.77  14.9   15.44  14.8   11.15  21.57  13.36\n 11.14  13.6   17.18  13.45  11.94  14.09  16.45  15.14  12.4   17.39\n 13.34  16.41  14.83  14.96  17.01  13.78  16.46  23.96  13.32  19.18\n 14.17  19.82  21.53  13.19  14.5   16.01  14.38  14.06  22.75  23.86\n 16.76  16.01  13.57  30.79  10.28  10.6   13.16  11.69  17.32  17.11\n 12.45  15.61  16.41  16.76  17.58  12.47  21.86  23.73  15.05  14.45\n 10.57  29.92  11.93  15.11  11.24   9.473 15.35  13.61  14.62  13.45\n 13.5   13.35  15.85  23.23  11.62  24.3   15.29  12.98   9.077  8.678\n 12.26  16.22  16.51  14.37  15.05  15.35  11.25  10.83  10.93  13.03\n 11.66  12.02  13.87   9.845 13.89  10.84  10.65  10.49  15.48  12.48\n 15.3   11.92  17.52  24.29  25.45  23.69  18.98  25.74   9.456].\nReshape your data either using array.reshape(-1, 1) if your data has a single feature or array.reshape(1, -1) if it contains a single sample.",
     "output_type": "error",
     "traceback": [
      "\u001b[1;31m---------------------------------------------------------------------------\u001b[0m",
      "\u001b[1;31mValueError\u001b[0m                                Traceback (most recent call last)",
      "Cell \u001b[1;32mIn [20], line 12\u001b[0m\n\u001b[0;32m     10\u001b[0m radiusNp \u001b[39m=\u001b[39m np\u001b[39m.\u001b[39marray(radiusRaw)\n\u001b[0;32m     11\u001b[0m \u001b[39m#print(radiusNp)\u001b[39;00m\n\u001b[1;32m---> 12\u001b[0m scaler \u001b[39m=\u001b[39m sklearn\u001b[39m.\u001b[39;49mpreprocessing\u001b[39m.\u001b[39;49mStandardScaler()\u001b[39m.\u001b[39;49mfit(radiusNp)\n",
      "File \u001b[1;32mc:\\Users\\kenny\\AppData\\Local\\Programs\\Python\\Python311\\Lib\\site-packages\\sklearn\\preprocessing\\_data.py:809\u001b[0m, in \u001b[0;36mStandardScaler.fit\u001b[1;34m(self, X, y, sample_weight)\u001b[0m\n\u001b[0;32m    807\u001b[0m \u001b[39m# Reset internal state before fitting\u001b[39;00m\n\u001b[0;32m    808\u001b[0m \u001b[39mself\u001b[39m\u001b[39m.\u001b[39m_reset()\n\u001b[1;32m--> 809\u001b[0m \u001b[39mreturn\u001b[39;00m \u001b[39mself\u001b[39;49m\u001b[39m.\u001b[39;49mpartial_fit(X, y, sample_weight)\n",
      "File \u001b[1;32mc:\\Users\\kenny\\AppData\\Local\\Programs\\Python\\Python311\\Lib\\site-packages\\sklearn\\preprocessing\\_data.py:844\u001b[0m, in \u001b[0;36mStandardScaler.partial_fit\u001b[1;34m(self, X, y, sample_weight)\u001b[0m\n\u001b[0;32m    812\u001b[0m \u001b[39m\"\"\"Online computation of mean and std on X for later scaling.\u001b[39;00m\n\u001b[0;32m    813\u001b[0m \n\u001b[0;32m    814\u001b[0m \u001b[39mAll of X is processed as a single batch. This is intended for cases\u001b[39;00m\n\u001b[1;32m   (...)\u001b[0m\n\u001b[0;32m    841\u001b[0m \u001b[39m    Fitted scaler.\u001b[39;00m\n\u001b[0;32m    842\u001b[0m \u001b[39m\"\"\"\u001b[39;00m\n\u001b[0;32m    843\u001b[0m first_call \u001b[39m=\u001b[39m \u001b[39mnot\u001b[39;00m \u001b[39mhasattr\u001b[39m(\u001b[39mself\u001b[39m, \u001b[39m\"\u001b[39m\u001b[39mn_samples_seen_\u001b[39m\u001b[39m\"\u001b[39m)\n\u001b[1;32m--> 844\u001b[0m X \u001b[39m=\u001b[39m \u001b[39mself\u001b[39;49m\u001b[39m.\u001b[39;49m_validate_data(\n\u001b[0;32m    845\u001b[0m     X,\n\u001b[0;32m    846\u001b[0m     accept_sparse\u001b[39m=\u001b[39;49m(\u001b[39m\"\u001b[39;49m\u001b[39mcsr\u001b[39;49m\u001b[39m\"\u001b[39;49m, \u001b[39m\"\u001b[39;49m\u001b[39mcsc\u001b[39;49m\u001b[39m\"\u001b[39;49m),\n\u001b[0;32m    847\u001b[0m     dtype\u001b[39m=\u001b[39;49mFLOAT_DTYPES,\n\u001b[0;32m    848\u001b[0m     force_all_finite\u001b[39m=\u001b[39;49m\u001b[39m\"\u001b[39;49m\u001b[39mallow-nan\u001b[39;49m\u001b[39m\"\u001b[39;49m,\n\u001b[0;32m    849\u001b[0m     reset\u001b[39m=\u001b[39;49mfirst_call,\n\u001b[0;32m    850\u001b[0m )\n\u001b[0;32m    851\u001b[0m n_features \u001b[39m=\u001b[39m X\u001b[39m.\u001b[39mshape[\u001b[39m1\u001b[39m]\n\u001b[0;32m    853\u001b[0m \u001b[39mif\u001b[39;00m sample_weight \u001b[39mis\u001b[39;00m \u001b[39mnot\u001b[39;00m \u001b[39mNone\u001b[39;00m:\n",
      "File \u001b[1;32mc:\\Users\\kenny\\AppData\\Local\\Programs\\Python\\Python311\\Lib\\site-packages\\sklearn\\base.py:577\u001b[0m, in \u001b[0;36mBaseEstimator._validate_data\u001b[1;34m(self, X, y, reset, validate_separately, **check_params)\u001b[0m\n\u001b[0;32m    575\u001b[0m     \u001b[39mraise\u001b[39;00m \u001b[39mValueError\u001b[39;00m(\u001b[39m\"\u001b[39m\u001b[39mValidation should be done on X, y or both.\u001b[39m\u001b[39m\"\u001b[39m)\n\u001b[0;32m    576\u001b[0m \u001b[39melif\u001b[39;00m \u001b[39mnot\u001b[39;00m no_val_X \u001b[39mand\u001b[39;00m no_val_y:\n\u001b[1;32m--> 577\u001b[0m     X \u001b[39m=\u001b[39m check_array(X, input_name\u001b[39m=\u001b[39;49m\u001b[39m\"\u001b[39;49m\u001b[39mX\u001b[39;49m\u001b[39m\"\u001b[39;49m, \u001b[39m*\u001b[39;49m\u001b[39m*\u001b[39;49mcheck_params)\n\u001b[0;32m    578\u001b[0m     out \u001b[39m=\u001b[39m X\n\u001b[0;32m    579\u001b[0m \u001b[39melif\u001b[39;00m no_val_X \u001b[39mand\u001b[39;00m \u001b[39mnot\u001b[39;00m no_val_y:\n",
      "File \u001b[1;32mc:\\Users\\kenny\\AppData\\Local\\Programs\\Python\\Python311\\Lib\\site-packages\\sklearn\\utils\\validation.py:879\u001b[0m, in \u001b[0;36mcheck_array\u001b[1;34m(array, accept_sparse, accept_large_sparse, dtype, order, copy, force_all_finite, ensure_2d, allow_nd, ensure_min_samples, ensure_min_features, estimator, input_name)\u001b[0m\n\u001b[0;32m    877\u001b[0m     \u001b[39m# If input is 1D raise error\u001b[39;00m\n\u001b[0;32m    878\u001b[0m     \u001b[39mif\u001b[39;00m array\u001b[39m.\u001b[39mndim \u001b[39m==\u001b[39m \u001b[39m1\u001b[39m:\n\u001b[1;32m--> 879\u001b[0m         \u001b[39mraise\u001b[39;00m \u001b[39mValueError\u001b[39;00m(\n\u001b[0;32m    880\u001b[0m             \u001b[39m\"\u001b[39m\u001b[39mExpected 2D array, got 1D array instead:\u001b[39m\u001b[39m\\n\u001b[39;00m\u001b[39marray=\u001b[39m\u001b[39m{}\u001b[39;00m\u001b[39m.\u001b[39m\u001b[39m\\n\u001b[39;00m\u001b[39m\"\u001b[39m\n\u001b[0;32m    881\u001b[0m             \u001b[39m\"\u001b[39m\u001b[39mReshape your data either using array.reshape(-1, 1) if \u001b[39m\u001b[39m\"\u001b[39m\n\u001b[0;32m    882\u001b[0m             \u001b[39m\"\u001b[39m\u001b[39myour data has a single feature or array.reshape(1, -1) \u001b[39m\u001b[39m\"\u001b[39m\n\u001b[0;32m    883\u001b[0m             \u001b[39m\"\u001b[39m\u001b[39mif it contains a single sample.\u001b[39m\u001b[39m\"\u001b[39m\u001b[39m.\u001b[39mformat(array)\n\u001b[0;32m    884\u001b[0m         )\n\u001b[0;32m    886\u001b[0m \u001b[39mif\u001b[39;00m dtype_numeric \u001b[39mand\u001b[39;00m array\u001b[39m.\u001b[39mdtype\u001b[39m.\u001b[39mkind \u001b[39min\u001b[39;00m \u001b[39m\"\u001b[39m\u001b[39mUSV\u001b[39m\u001b[39m\"\u001b[39m:\n\u001b[0;32m    887\u001b[0m     \u001b[39mraise\u001b[39;00m \u001b[39mValueError\u001b[39;00m(\n\u001b[0;32m    888\u001b[0m         \u001b[39m\"\u001b[39m\u001b[39mdtype=\u001b[39m\u001b[39m'\u001b[39m\u001b[39mnumeric\u001b[39m\u001b[39m'\u001b[39m\u001b[39m is not compatible with arrays of bytes/strings.\u001b[39m\u001b[39m\"\u001b[39m\n\u001b[0;32m    889\u001b[0m         \u001b[39m\"\u001b[39m\u001b[39mConvert your data to numeric values explicitly instead.\u001b[39m\u001b[39m\"\u001b[39m\n\u001b[0;32m    890\u001b[0m     )\n",
      "\u001b[1;31mValueError\u001b[0m: Expected 2D array, got 1D array instead:\narray=[25.38  24.99  23.57  14.91  22.54  15.47  22.88  17.06  15.49  15.09\n 19.19  20.42  20.96  16.84  15.03  17.46  19.07  20.96  27.32  15.11\n 14.5   10.23  18.07  29.17  26.46  22.25  17.62  21.31  20.27  20.01\n 23.15  16.82  20.88  24.15  20.21  20.01  15.89  13.3   14.99  15.53\n 15.93  12.84  24.09  17.38  16.23  22.82   8.964 15.67  13.76  15.15\n 12.98  14.67  13.1   20.6   18.1   12.84  26.14  17.87  14.23   9.507\n 11.02   9.565 17.67  10.01  17.09  17.31  10.41  12.33  10.31  13.46\n 24.86   9.733 23.32  16.57  14.11  19.77  14.08  22.39  23.37  14.24\n 13.11  15.53  30.    20.33  13.67  22.93  16.21  24.56  13.83  16.34\n 16.11  16.43  16.36  15.1   18.23  24.22  12.83  10.92  13.06  16.33\n 16.99   7.93  13.34  10.76  11.54  16.31  13.14  13.29  28.4   13.01\n 11.05  13.33  15.3   11.16   9.628 13.67   9.414 18.81  20.19  20.58\n 12.82  22.25  26.02  15.7   14.26  15.49  16.89  22.32  16.11  22.63\n 13.34  19.26  19.47  17.5   22.52  14.49  13.33  12.32  18.55  11.92\n 10.62  19.92  12.78  14.48  11.95  13.15  13.74  16.25  15.85  15.34\n 14.16   9.092 11.02  11.99  14.77  13.59  20.47  18.22  13.14  12.36\n 13.32  22.03  26.73  13.58  28.01  15.98  11.6   20.05  23.14  16.11\n 13.5   17.98  18.79  11.35  11.54   9.262 11.26  17.79  14.    13.63\n 33.12  26.68  20.11  12.37  17.8   11.87  21.31  13.01  12.57  13.35\n 15.74  13.75   9.968 15.65  16.08  13.88  16.39  19.76  23.36  18.33\n 14.44  20.42  25.12  19.2   14.97  17.77  10.42  19.8   14.55  17.38\n 23.24  13.3   28.11  18.07  16.86  15.75  13.25  11.48  25.73  27.9\n 15.34  14.98  11.17  19.56  15.14  16.77  11.52  16.41  14.2   15.2\n 19.59  12.08  12.36  24.47  10.51  15.33  31.01  24.22  15.75  22.51\n 14.85  13.2   12.58  15.01  21.65  11.48  13.94  14.39  12.25  12.65\n 25.58  12.97  25.28  19.85  25.7   16.39  25.05  17.73  19.85  18.49\n 24.33  19.85  20.39  17.91  21.58  32.49  11.88  14.8   13.9   11.69\n 14.91  12.32  28.19  10.75  20.92  12.4   12.2   19.96  15.5   14.98\n 23.72  13.31  23.79  18.55  13.9   13.5   13.24  13.62  11.86  12.36\n 15.77  16.25  13.74  13.06  13.5   14.67  11.37  13.36  16.22  10.93\n 25.93  13.46  23.68  11.06  12.68  12.44  14.41   9.699 14.97  14.73\n 12.61  16.46  14.19  12.34   8.952 13.34  12.85  21.84  10.06  12.9\n 11.28  23.06  14.04  25.3   13.75  13.71  15.53  13.07  19.28  17.73\n 18.76  14.42  11.98  12.76  13.35  20.99  13.72  24.54  11.16  30.67\n 16.67  10.75  11.92  22.75  13.06  10.88  13.64  17.27  12.51  12.81\n 13.28  17.36  33.13  18.51  12.12  13.37  14.19  15.11   9.981 12.02\n 13.72  14.2   13.75  18.13  14.73  24.31  24.19  14.29  30.75  27.66\n 19.38  16.2   22.69  25.37  14.84  16.97  10.85  14.69  14.54  13.24\n 12.84  12.09  12.57  14.18  14.24  15.79  13.13  15.51  12.04  20.82\n 11.38  10.17  21.2   26.23  13.56  14.92  14.8   13.74  12.68  13.45\n 20.8   13.8   14.13  13.86  13.18  12.4   17.71  14.4   21.08  14.1\n 13.05  12.41   9.965 16.76  17.26  13.05  10.85  23.17  13.65  12.36\n 13.07  16.46  12.64  15.14  11.21  11.11  12.13  12.76  11.68  13.82\n 16.35  12.88  22.03  22.66  16.31  17.04  14.45  15.66  15.63  14.91\n 12.36  20.38  15.27  10.94  20.38  12.98  21.53  16.43  16.3   25.68\n 12.79  21.44  13.09  15.8   14.34  15.05  13.12  14.35  14.34  10.67\n 22.96  36.04  15.4   12.77  14.9   15.44  14.8   11.15  21.57  13.36\n 11.14  13.6   17.18  13.45  11.94  14.09  16.45  15.14  12.4   17.39\n 13.34  16.41  14.83  14.96  17.01  13.78  16.46  23.96  13.32  19.18\n 14.17  19.82  21.53  13.19  14.5   16.01  14.38  14.06  22.75  23.86\n 16.76  16.01  13.57  30.79  10.28  10.6   13.16  11.69  17.32  17.11\n 12.45  15.61  16.41  16.76  17.58  12.47  21.86  23.73  15.05  14.45\n 10.57  29.92  11.93  15.11  11.24   9.473 15.35  13.61  14.62  13.45\n 13.5   13.35  15.85  23.23  11.62  24.3   15.29  12.98   9.077  8.678\n 12.26  16.22  16.51  14.37  15.05  15.35  11.25  10.83  10.93  13.03\n 11.66  12.02  13.87   9.845 13.89  10.84  10.65  10.49  15.48  12.48\n 15.3   11.92  17.52  24.29  25.45  23.69  18.98  25.74   9.456].\nReshape your data either using array.reshape(-1, 1) if your data has a single feature or array.reshape(1, -1) if it contains a single sample."
     ]
    }
   ],
   "source": [
    "import numpy as np\n",
    "\n",
    "X = wc.iloc[:, -10:].values # training data is the last ten elements\n",
    "y_raw = wc.iloc[:, 0].values\n",
    "y = [1 if i == \"M\" else 0 for i in y_raw]\n",
    "#print(y)\n"
   ]
  },
  {
   "cell_type": "code",
   "execution_count": 21,
   "id": "e91e9197",
   "metadata": {},
   "outputs": [],
   "source": [
    "radiusRaw = wc.iloc[:, 1].values\n",
    "radiusNp = np.array(radiusRaw)"
   ]
  }
 ],
 "metadata": {
  "kernelspec": {
   "display_name": "Python 3.11.0 64-bit",
   "language": "python",
   "name": "python3"
  },
  "language_info": {
   "codemirror_mode": {
    "name": "ipython",
    "version": 3
   },
   "file_extension": ".py",
   "mimetype": "text/x-python",
   "name": "python",
   "nbconvert_exporter": "python",
   "pygments_lexer": "ipython3",
   "version": "3.11.0"
  },
  "vscode": {
   "interpreter": {
    "hash": "8edb914cc20ede371027e4fc899da92b6f9274f253784af8e1bd28908377a6dc"
   }
  }
 },
 "nbformat": 4,
 "nbformat_minor": 5
}
